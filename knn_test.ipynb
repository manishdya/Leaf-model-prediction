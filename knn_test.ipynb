{
  "nbformat": 4,
  "nbformat_minor": 0,
  "metadata": {
    "colab": {
      "provenance": []
    },
    "kernelspec": {
      "name": "python3",
      "display_name": "Python 3"
    },
    "language_info": {
      "name": "python"
    }
  },
  "cells": [
    {
      "cell_type": "code",
      "execution_count": null,
      "metadata": {
        "id": "29Z4HkPsmAL0"
      },
      "outputs": [],
      "source": [
        "import seaborn as sns\n",
        "import pandas as pd\n",
        "import numpy as np\n",
        "import sklearn\n",
        "from sklearn.model_selection import train_test_split\n",
        "from sklearn.metrics import classification_report\n",
        "from sklearn.metrics import confusion_matrix\n",
        "from sklearn.metrics import accuracy_score\n",
        "from sklearn.neighbors import KNeighborsClassifier\n",
        "import sys\n",
        "import json\n",
        "import pickle\n",
        "import warnings\n",
        "warnings.filterwarnings('ignore')"
      ]
    },
    {
      "cell_type": "code",
      "source": [
        "class knn:\n",
        "  try:\n",
        "    def __init__(self):\n",
        "      self.df = sns.load_dataset('iris')\n",
        "      self.df['species'] = self.df['species'].map({'setosa':0,'versicolor':1,'virginica':2}).astype(int)\n",
        "      self.X = self.df.iloc[:,:-1]\n",
        "      self.y = self.df.iloc[:,-1]\n",
        "      self.X_train,self.X_test,self.y_train,self.y_test = train_test_split(self.X,self.y,test_size = 0.2,random_state=45)\n",
        "      self.reg = KNeighborsClassifier()\n",
        "      self.reg.fit(self.X_train,self.y_train)\n",
        "    def test_data(self):\n",
        "      self.cmm = confusion_matrix(self.y_test,self.reg.predict(self.X_test))\n",
        "      self.acs = accuracy_score(self.y_test,self.reg.predict(self.X_test))\n",
        "      self.clrr = classification_report(self.y_test,self.reg.predict(self.X_test))\n",
        "      print(self.cmm)\n",
        "      print(self.acs)\n",
        "      print(self.clrr)\n",
        "      self.result = {\n",
        "          \"confusion_matrix\" : self.cmm.tolist(),\n",
        "          \"acccuracy_score\": self.acs,\n",
        "          \"class_report\" : self.clrr\n",
        "\n",
        "      }\n",
        "      with open(\"knn_test.json\",'w')as f:\n",
        "        json.dump(self.result,f,indent=4)\n",
        "      with open('knn_algoritm.pkl','wb')as dym:\n",
        "        pickle.dump(self.reg,dym)\n",
        "\n",
        "  except Exception:\n",
        "    exc_type,exc_msg,exc_line = sys.info()\n",
        "    print(exc_type,exc_msg,exc_line)\n",
        "\n",
        "\n",
        "\n",
        "if __name__ == '__main__':\n",
        "  obj = knn()\n",
        "  obj.test_data()\n",
        "\n"
      ],
      "metadata": {
        "colab": {
          "base_uri": "https://localhost:8080/"
        },
        "id": "lW-3xAAqmKca",
        "outputId": "fcf7fa1b-3739-4779-8bf6-369bf1825eb2"
      },
      "execution_count": 17,
      "outputs": [
        {
          "output_type": "stream",
          "name": "stdout",
          "text": [
            "[[11  0  0]\n",
            " [ 0  7  0]\n",
            " [ 0  1 11]]\n",
            "0.9666666666666667\n",
            "              precision    recall  f1-score   support\n",
            "\n",
            "           0       1.00      1.00      1.00        11\n",
            "           1       0.88      1.00      0.93         7\n",
            "           2       1.00      0.92      0.96        12\n",
            "\n",
            "    accuracy                           0.97        30\n",
            "   macro avg       0.96      0.97      0.96        30\n",
            "weighted avg       0.97      0.97      0.97        30\n",
            "\n"
          ]
        }
      ]
    },
    {
      "cell_type": "code",
      "source": [
        "with open('knn_algoritm.pkl','rb') as manish:\n",
        "  fgj = pickle.load(manish)\n",
        "print(fgj.predict([[5.1,3.8,1.9,0.4]]))"
      ],
      "metadata": {
        "colab": {
          "base_uri": "https://localhost:8080/"
        },
        "id": "k2rYpDHnrIv5",
        "outputId": "02e3118c-ede9-4c0e-b06c-f50da9200aa5"
      },
      "execution_count": 19,
      "outputs": [
        {
          "output_type": "stream",
          "name": "stdout",
          "text": [
            "[0]\n"
          ]
        }
      ]
    }
  ]
}